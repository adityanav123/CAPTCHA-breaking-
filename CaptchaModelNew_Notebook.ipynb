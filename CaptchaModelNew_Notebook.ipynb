{
 "cells": [
  {
   "cell_type": "code",
   "execution_count": 1,
   "metadata": {},
   "outputs": [
    {
     "name": "stderr",
     "output_type": "stream",
     "text": [
      "Using TensorFlow backend.\n",
      "/home/adi/miniconda3/envs/datascience/lib/python3.7/site-packages/tensorflow/python/framework/dtypes.py:516: FutureWarning: Passing (type, 1) or '1type' as a synonym of type is deprecated; in a future version of numpy, it will be understood as (type, (1,)) / '(1,)type'.\n",
      "  _np_qint8 = np.dtype([(\"qint8\", np.int8, 1)])\n",
      "/home/adi/miniconda3/envs/datascience/lib/python3.7/site-packages/tensorflow/python/framework/dtypes.py:517: FutureWarning: Passing (type, 1) or '1type' as a synonym of type is deprecated; in a future version of numpy, it will be understood as (type, (1,)) / '(1,)type'.\n",
      "  _np_quint8 = np.dtype([(\"quint8\", np.uint8, 1)])\n",
      "/home/adi/miniconda3/envs/datascience/lib/python3.7/site-packages/tensorflow/python/framework/dtypes.py:518: FutureWarning: Passing (type, 1) or '1type' as a synonym of type is deprecated; in a future version of numpy, it will be understood as (type, (1,)) / '(1,)type'.\n",
      "  _np_qint16 = np.dtype([(\"qint16\", np.int16, 1)])\n",
      "/home/adi/miniconda3/envs/datascience/lib/python3.7/site-packages/tensorflow/python/framework/dtypes.py:519: FutureWarning: Passing (type, 1) or '1type' as a synonym of type is deprecated; in a future version of numpy, it will be understood as (type, (1,)) / '(1,)type'.\n",
      "  _np_quint16 = np.dtype([(\"quint16\", np.uint16, 1)])\n",
      "/home/adi/miniconda3/envs/datascience/lib/python3.7/site-packages/tensorflow/python/framework/dtypes.py:520: FutureWarning: Passing (type, 1) or '1type' as a synonym of type is deprecated; in a future version of numpy, it will be understood as (type, (1,)) / '(1,)type'.\n",
      "  _np_qint32 = np.dtype([(\"qint32\", np.int32, 1)])\n",
      "/home/adi/miniconda3/envs/datascience/lib/python3.7/site-packages/tensorflow/python/framework/dtypes.py:525: FutureWarning: Passing (type, 1) or '1type' as a synonym of type is deprecated; in a future version of numpy, it will be understood as (type, (1,)) / '(1,)type'.\n",
      "  np_resource = np.dtype([(\"resource\", np.ubyte, 1)])\n"
     ]
    }
   ],
   "source": [
    "import cv2\n",
    "from PIL import Image\n",
    "import numpy as np\n",
    "import pandas as pd\n",
    "import matplotlib.pyplot as plt\n",
    "import os\n",
    "import string\n",
    "\n",
    "from keras import layers\n",
    "from keras.models import Model\n",
    "from keras.models import load_model\n",
    "from keras import callbacks"
   ]
  },
  {
   "cell_type": "code",
   "execution_count": 2,
   "metadata": {},
   "outputs": [],
   "source": [
    "# preprocess data\n",
    "img_shape = (50, 200, 1)\n",
    "symbols = string.ascii_lowercase + string.digits\n",
    "n = len(os.listdir('samples')) # 1070 images\n",
    "num_symbols = 36 # 0 to 9 and A to Z\n",
    "#print(n)\n",
    "\n",
    "#create image pix array\n",
    "x = np.zeros((n, 50, 200, 1))\n",
    "y = np.zeros((5, n, 36)) # 0 to 9 and A to Z\n",
    "\n",
    "for i, pic in enumerate(os.listdir('samples')):\n",
    "        img = cv2.imread(os.path.join('samples', pic), cv2.IMREAD_GRAYSCALE) # direct read as gray scale\n",
    "        pic_target = pic[:-4]\n",
    "        if len(pic_target) < 6:\n",
    "            img = img / 255.0\n",
    "            img = np.reshape(img, (50, 200, 1))\n",
    "            targs = np.zeros((5, num_symbols))\n",
    "            for j, l in enumerate(pic_target):\n",
    "                ind = symbols.find(l)\n",
    "                targs[j, ind] = 1\n",
    "            x[i] = img\n",
    "            y[:, i] = targs\n",
    "x_train,y_train = x[:970], y[:, :970]\n",
    "x_test, y_test = x[970:], y[:, 970:]\n",
    "\n",
    "        \n",
    "    "
   ]
  },
  {
   "cell_type": "code",
   "execution_count": 3,
   "metadata": {},
   "outputs": [
    {
     "name": "stdout",
     "output_type": "stream",
     "text": [
      "WARNING:tensorflow:From /home/adi/miniconda3/envs/datascience/lib/python3.7/site-packages/keras/backend/tensorflow_backend.py:74: The name tf.get_default_graph is deprecated. Please use tf.compat.v1.get_default_graph instead.\n",
      "\n",
      "WARNING:tensorflow:From /home/adi/miniconda3/envs/datascience/lib/python3.7/site-packages/keras/backend/tensorflow_backend.py:517: The name tf.placeholder is deprecated. Please use tf.compat.v1.placeholder instead.\n",
      "\n",
      "WARNING:tensorflow:From /home/adi/miniconda3/envs/datascience/lib/python3.7/site-packages/keras/backend/tensorflow_backend.py:4138: The name tf.random_uniform is deprecated. Please use tf.random.uniform instead.\n",
      "\n",
      "WARNING:tensorflow:From /home/adi/miniconda3/envs/datascience/lib/python3.7/site-packages/keras/backend/tensorflow_backend.py:3976: The name tf.nn.max_pool is deprecated. Please use tf.nn.max_pool2d instead.\n",
      "\n",
      "WARNING:tensorflow:From /home/adi/miniconda3/envs/datascience/lib/python3.7/site-packages/keras/backend/tensorflow_backend.py:174: The name tf.get_default_session is deprecated. Please use tf.compat.v1.get_default_session instead.\n",
      "\n",
      "WARNING:tensorflow:From /home/adi/miniconda3/envs/datascience/lib/python3.7/site-packages/keras/backend/tensorflow_backend.py:181: The name tf.ConfigProto is deprecated. Please use tf.compat.v1.ConfigProto instead.\n",
      "\n",
      "WARNING:tensorflow:From /home/adi/miniconda3/envs/datascience/lib/python3.7/site-packages/keras/backend/tensorflow_backend.py:1834: The name tf.nn.fused_batch_norm is deprecated. Please use tf.compat.v1.nn.fused_batch_norm instead.\n",
      "\n",
      "WARNING:tensorflow:From /home/adi/miniconda3/envs/datascience/lib/python3.7/site-packages/keras/backend/tensorflow_backend.py:3445: calling dropout (from tensorflow.python.ops.nn_ops) with keep_prob is deprecated and will be removed in a future version.\n",
      "Instructions for updating:\n",
      "Please use `rate` instead of `keep_prob`. Rate should be set to `rate = 1 - keep_prob`.\n"
     ]
    }
   ],
   "source": [
    "# Creating Model \n",
    "img1 = layers.Input(shape=img_shape) # 50 , 200, 1\n",
    "conv1 = layers.Conv2D(16, (3, 3), padding='same', activation='relu')(img1)\n",
    "mp1 = layers.MaxPooling2D(padding='same')(conv1)\n",
    "conv2 = layers.Conv2D(32, (3, 3), padding='same', activation='relu')(mp1)\n",
    "mp2 = layers.MaxPooling2D(padding='same')(conv2)\n",
    "conv3 = layers.Conv2D(32, (3, 3), padding='same', activation='relu')(mp2)\n",
    "bn = layers.BatchNormalization()(conv3)\n",
    "mp3 = layers.MaxPooling2D(padding='same')(bn)\n",
    "\n",
    "flat = layers.Flatten()(mp3) # create a flatten vector and get 5 branches each branch for each letter\n",
    "outs = []\n",
    "for _ in range(5):\n",
    "        dens1 = layers.Dense(64, activation='relu')(flat)\n",
    "        drop = layers.Dropout(0.5)(dens1)\n",
    "        res = layers.Dense(num_symbols, activation='sigmoid')(drop)\n",
    "        outs.append(res)\n",
    "    \n",
    "    \n",
    "model = Model(img1, outs)\n",
    "\n"
   ]
  },
  {
   "cell_type": "code",
   "execution_count": 20,
   "metadata": {},
   "outputs": [
    {
     "name": "stdout",
     "output_type": "stream",
     "text": [
      "WARNING:tensorflow:From /home/adi/miniconda3/envs/datascience/lib/python3.7/site-packages/keras/optimizers.py:790: The name tf.train.Optimizer is deprecated. Please use tf.compat.v1.train.Optimizer instead.\n",
      "\n"
     ]
    }
   ],
   "source": [
    "# complie the model\n",
    "model.compile(loss='categorical_crossentropy', optimizer='adam',metrics=[\"accuracy\"])\n"
   ]
  },
  {
   "cell_type": "code",
   "execution_count": 22,
   "metadata": {},
   "outputs": [
    {
     "name": "stdout",
     "output_type": "stream",
     "text": [
      "__________________________________________________________________________________________________\n",
      "Layer (type)                    Output Shape         Param #     Connected to                     \n",
      "==================================================================================================\n",
      "input_2 (InputLayer)            (None, 50, 200, 1)   0                                            \n",
      "__________________________________________________________________________________________________\n",
      "conv2d_4 (Conv2D)               (None, 50, 200, 16)  160         input_2[0][0]                    \n",
      "__________________________________________________________________________________________________\n",
      "max_pooling2d_4 (MaxPooling2D)  (None, 25, 100, 16)  0           conv2d_4[0][0]                   \n",
      "__________________________________________________________________________________________________\n",
      "conv2d_5 (Conv2D)               (None, 25, 100, 32)  4640        max_pooling2d_4[0][0]            \n",
      "__________________________________________________________________________________________________\n",
      "max_pooling2d_5 (MaxPooling2D)  (None, 13, 50, 32)   0           conv2d_5[0][0]                   \n",
      "__________________________________________________________________________________________________\n",
      "conv2d_6 (Conv2D)               (None, 13, 50, 32)   9248        max_pooling2d_5[0][0]            \n",
      "__________________________________________________________________________________________________\n",
      "batch_normalization_2 (BatchNor (None, 13, 50, 32)   128         conv2d_6[0][0]                   \n",
      "__________________________________________________________________________________________________\n",
      "max_pooling2d_6 (MaxPooling2D)  (None, 7, 25, 32)    0           batch_normalization_2[0][0]      \n",
      "__________________________________________________________________________________________________\n",
      "flatten_2 (Flatten)             (None, 5600)         0           max_pooling2d_6[0][0]            \n",
      "__________________________________________________________________________________________________\n",
      "dense_11 (Dense)                (None, 64)           358464      flatten_2[0][0]                  \n",
      "__________________________________________________________________________________________________\n",
      "dense_13 (Dense)                (None, 64)           358464      flatten_2[0][0]                  \n",
      "__________________________________________________________________________________________________\n",
      "dense_15 (Dense)                (None, 64)           358464      flatten_2[0][0]                  \n",
      "__________________________________________________________________________________________________\n",
      "dense_17 (Dense)                (None, 64)           358464      flatten_2[0][0]                  \n",
      "__________________________________________________________________________________________________\n",
      "dense_19 (Dense)                (None, 64)           358464      flatten_2[0][0]                  \n",
      "__________________________________________________________________________________________________\n",
      "dropout_6 (Dropout)             (None, 64)           0           dense_11[0][0]                   \n",
      "__________________________________________________________________________________________________\n",
      "dropout_7 (Dropout)             (None, 64)           0           dense_13[0][0]                   \n",
      "__________________________________________________________________________________________________\n",
      "dropout_8 (Dropout)             (None, 64)           0           dense_15[0][0]                   \n",
      "__________________________________________________________________________________________________\n",
      "dropout_9 (Dropout)             (None, 64)           0           dense_17[0][0]                   \n",
      "__________________________________________________________________________________________________\n",
      "dropout_10 (Dropout)            (None, 64)           0           dense_19[0][0]                   \n",
      "__________________________________________________________________________________________________\n",
      "dense_12 (Dense)                (None, 36)           2340        dropout_6[0][0]                  \n",
      "__________________________________________________________________________________________________\n",
      "dense_14 (Dense)                (None, 36)           2340        dropout_7[0][0]                  \n",
      "__________________________________________________________________________________________________\n",
      "dense_16 (Dense)                (None, 36)           2340        dropout_8[0][0]                  \n",
      "__________________________________________________________________________________________________\n",
      "dense_18 (Dense)                (None, 36)           2340        dropout_9[0][0]                  \n",
      "__________________________________________________________________________________________________\n",
      "dense_20 (Dense)                (None, 36)           2340        dropout_10[0][0]                 \n",
      "==================================================================================================\n",
      "Total params: 1,818,196\n",
      "Trainable params: 1,818,132\n",
      "Non-trainable params: 64\n",
      "__________________________________________________________________________________________________\n"
     ]
    }
   ],
   "source": [
    "model.summary()"
   ]
  },
  {
   "cell_type": "code",
   "execution_count": 23,
   "metadata": {
    "scrolled": true
   },
   "outputs": [
    {
     "name": "stdout",
     "output_type": "stream",
     "text": [
      "WARNING:tensorflow:From /home/adi/miniconda3/envs/datascience/lib/python3.7/site-packages/tensorflow/python/ops/math_grad.py:1250: add_dispatch_support.<locals>.wrapper (from tensorflow.python.ops.array_ops) is deprecated and will be removed in a future version.\n",
      "Instructions for updating:\n",
      "Use tf.where in 2.0, which has the same broadcast rule as np.where\n",
      "Train on 776 samples, validate on 194 samples\n",
      "Epoch 1/30\n",
      "776/776 [==============================] - 10s 12ms/step - loss: 17.7263 - dense_12_loss: 3.6072 - dense_14_loss: 3.4997 - dense_16_loss: 3.4983 - dense_18_loss: 3.5321 - dense_20_loss: 3.5891 - dense_12_acc: 0.0425 - dense_14_acc: 0.0451 - dense_16_acc: 0.0451 - dense_18_acc: 0.0399 - dense_20_acc: 0.0477 - val_loss: 28.5711 - val_dense_12_loss: 6.3794 - val_dense_14_loss: 4.7123 - val_dense_16_loss: 5.7792 - val_dense_18_loss: 6.0807 - val_dense_20_loss: 5.6195 - val_dense_12_acc: 0.0464 - val_dense_14_acc: 0.0309 - val_dense_16_acc: 0.0722 - val_dense_18_acc: 0.0258 - val_dense_20_acc: 0.0000e+00\n",
      "Epoch 2/30\n",
      "776/776 [==============================] - 3s 4ms/step - loss: 16.5587 - dense_12_loss: 3.3886 - dense_14_loss: 3.3011 - dense_16_loss: 3.2907 - dense_18_loss: 3.2703 - dense_20_loss: 3.3080 - dense_12_acc: 0.0619 - dense_14_acc: 0.0541 - dense_16_acc: 0.0760 - dense_18_acc: 0.0876 - dense_20_acc: 0.0657 - val_loss: 15.5948 - val_dense_12_loss: 3.2270 - val_dense_14_loss: 3.1175 - val_dense_16_loss: 3.0633 - val_dense_18_loss: 3.0579 - val_dense_20_loss: 3.1291 - val_dense_12_acc: 0.0825 - val_dense_14_acc: 0.0979 - val_dense_16_acc: 0.0464 - val_dense_18_acc: 0.0619 - val_dense_20_acc: 0.0979\n",
      "Epoch 3/30\n",
      "776/776 [==============================] - 4s 5ms/step - loss: 15.8382 - dense_12_loss: 3.2408 - dense_14_loss: 3.1503 - dense_16_loss: 3.1387 - dense_18_loss: 3.1245 - dense_20_loss: 3.1838 - dense_12_acc: 0.0851 - dense_14_acc: 0.1108 - dense_16_acc: 0.0696 - dense_18_acc: 0.0760 - dense_20_acc: 0.0709 - val_loss: 14.7144 - val_dense_12_loss: 2.9412 - val_dense_14_loss: 2.9085 - val_dense_16_loss: 2.9485 - val_dense_18_loss: 2.9343 - val_dense_20_loss: 2.9820 - val_dense_12_acc: 0.0567 - val_dense_14_acc: 0.0825 - val_dense_16_acc: 0.0773 - val_dense_18_acc: 0.0722 - val_dense_20_acc: 0.1289\n",
      "Epoch 4/30\n",
      "776/776 [==============================] - 3s 4ms/step - loss: 15.2246 - dense_12_loss: 3.0527 - dense_14_loss: 3.0138 - dense_16_loss: 3.0382 - dense_18_loss: 3.0468 - dense_20_loss: 3.0730 - dense_12_acc: 0.0992 - dense_14_acc: 0.1108 - dense_16_acc: 0.0709 - dense_18_acc: 0.0979 - dense_20_acc: 0.1095 - val_loss: 14.3955 - val_dense_12_loss: 2.8460 - val_dense_14_loss: 2.8348 - val_dense_16_loss: 2.9063 - val_dense_18_loss: 2.9094 - val_dense_20_loss: 2.8990 - val_dense_12_acc: 0.1031 - val_dense_14_acc: 0.1649 - val_dense_16_acc: 0.1134 - val_dense_18_acc: 0.1082 - val_dense_20_acc: 0.1340\n",
      "Epoch 5/30\n",
      "776/776 [==============================] - 4s 5ms/step - loss: 14.7557 - dense_12_loss: 2.8995 - dense_14_loss: 2.9101 - dense_16_loss: 3.0096 - dense_18_loss: 2.9485 - dense_20_loss: 2.9879 - dense_12_acc: 0.0928 - dense_14_acc: 0.1173 - dense_16_acc: 0.0709 - dense_18_acc: 0.1082 - dense_20_acc: 0.1018 - val_loss: 13.8329 - val_dense_12_loss: 2.6706 - val_dense_14_loss: 2.6914 - val_dense_16_loss: 2.8324 - val_dense_18_loss: 2.8139 - val_dense_20_loss: 2.8246 - val_dense_12_acc: 0.0361 - val_dense_14_acc: 0.1289 - val_dense_16_acc: 0.1340 - val_dense_18_acc: 0.0670 - val_dense_20_acc: 0.1495\n",
      "Epoch 6/30\n",
      "776/776 [==============================] - 3s 4ms/step - loss: 14.3236 - dense_12_loss: 2.8089 - dense_14_loss: 2.7700 - dense_16_loss: 2.9312 - dense_18_loss: 2.8597 - dense_20_loss: 2.9536 - dense_12_acc: 0.1095 - dense_14_acc: 0.1662 - dense_16_acc: 0.1005 - dense_18_acc: 0.1521 - dense_20_acc: 0.1198 - val_loss: 13.5053 - val_dense_12_loss: 2.5724 - val_dense_14_loss: 2.6142 - val_dense_16_loss: 2.8204 - val_dense_18_loss: 2.7457 - val_dense_20_loss: 2.7527 - val_dense_12_acc: 0.0876 - val_dense_14_acc: 0.1753 - val_dense_16_acc: 0.1598 - val_dense_18_acc: 0.0928 - val_dense_20_acc: 0.1340\n",
      "Epoch 7/30\n",
      "776/776 [==============================] - 3s 4ms/step - loss: 13.9120 - dense_12_loss: 2.7085 - dense_14_loss: 2.6820 - dense_16_loss: 2.8801 - dense_18_loss: 2.7944 - dense_20_loss: 2.8470 - dense_12_acc: 0.1211 - dense_14_acc: 0.1817 - dense_16_acc: 0.1147 - dense_18_acc: 0.1392 - dense_20_acc: 0.1160 - val_loss: 13.2082 - val_dense_12_loss: 2.4894 - val_dense_14_loss: 2.4832 - val_dense_16_loss: 2.7922 - val_dense_18_loss: 2.6672 - val_dense_20_loss: 2.7761 - val_dense_12_acc: 0.0464 - val_dense_14_acc: 0.2165 - val_dense_16_acc: 0.0928 - val_dense_18_acc: 0.1495 - val_dense_20_acc: 0.1134\n",
      "Epoch 8/30\n",
      "776/776 [==============================] - 3s 4ms/step - loss: 13.4991 - dense_12_loss: 2.6022 - dense_14_loss: 2.5967 - dense_16_loss: 2.7918 - dense_18_loss: 2.7213 - dense_20_loss: 2.7870 - dense_12_acc: 0.1224 - dense_14_acc: 0.1791 - dense_16_acc: 0.1057 - dense_18_acc: 0.1508 - dense_20_acc: 0.1495 - val_loss: 12.6633 - val_dense_12_loss: 2.3343 - val_dense_14_loss: 2.3558 - val_dense_16_loss: 2.7578 - val_dense_18_loss: 2.5883 - val_dense_20_loss: 2.6272 - val_dense_12_acc: 0.0412 - val_dense_14_acc: 0.2474 - val_dense_16_acc: 0.1289 - val_dense_18_acc: 0.1134 - val_dense_20_acc: 0.1443\n",
      "Epoch 9/30\n",
      "776/776 [==============================] - 3s 4ms/step - loss: 13.1269 - dense_12_loss: 2.5257 - dense_14_loss: 2.4810 - dense_16_loss: 2.7834 - dense_18_loss: 2.6329 - dense_20_loss: 2.7039 - dense_12_acc: 0.1082 - dense_14_acc: 0.1495 - dense_16_acc: 0.1005 - dense_18_acc: 0.1740 - dense_20_acc: 0.1430 - val_loss: 12.3617 - val_dense_12_loss: 2.1883 - val_dense_14_loss: 2.3013 - val_dense_16_loss: 2.6820 - val_dense_18_loss: 2.6225 - val_dense_20_loss: 2.5677 - val_dense_12_acc: 0.0722 - val_dense_14_acc: 0.2371 - val_dense_16_acc: 0.1546 - val_dense_18_acc: 0.1546 - val_dense_20_acc: 0.1186\n",
      "Epoch 10/30\n",
      "776/776 [==============================] - 3s 4ms/step - loss: 12.7565 - dense_12_loss: 2.4363 - dense_14_loss: 2.4124 - dense_16_loss: 2.7063 - dense_18_loss: 2.5560 - dense_20_loss: 2.6455 - dense_12_acc: 0.0928 - dense_14_acc: 0.2049 - dense_16_acc: 0.0979 - dense_18_acc: 0.1456 - dense_20_acc: 0.1611 - val_loss: 11.7738 - val_dense_12_loss: 2.0105 - val_dense_14_loss: 2.1912 - val_dense_16_loss: 2.6541 - val_dense_18_loss: 2.4374 - val_dense_20_loss: 2.4807 - val_dense_12_acc: 0.0464 - val_dense_14_acc: 0.2216 - val_dense_16_acc: 0.1649 - val_dense_18_acc: 0.1134 - val_dense_20_acc: 0.2010\n",
      "Epoch 11/30\n",
      "776/776 [==============================] - 4s 5ms/step - loss: 12.1902 - dense_12_loss: 2.2966 - dense_14_loss: 2.2800 - dense_16_loss: 2.6252 - dense_18_loss: 2.4640 - dense_20_loss: 2.5244 - dense_12_acc: 0.0992 - dense_14_acc: 0.1933 - dense_16_acc: 0.1082 - dense_18_acc: 0.1830 - dense_20_acc: 0.1418 - val_loss: 11.0552 - val_dense_12_loss: 1.8102 - val_dense_14_loss: 1.9769 - val_dense_16_loss: 2.5483 - val_dense_18_loss: 2.3287 - val_dense_20_loss: 2.3910 - val_dense_12_acc: 0.0515 - val_dense_14_acc: 0.2526 - val_dense_16_acc: 0.1701 - val_dense_18_acc: 0.0876 - val_dense_20_acc: 0.2216\n",
      "Epoch 12/30\n",
      "776/776 [==============================] - 4s 5ms/step - loss: 11.8894 - dense_12_loss: 2.1886 - dense_14_loss: 2.2473 - dense_16_loss: 2.5380 - dense_18_loss: 2.4092 - dense_20_loss: 2.5062 - dense_12_acc: 0.1005 - dense_14_acc: 0.2255 - dense_16_acc: 0.1160 - dense_18_acc: 0.1714 - dense_20_acc: 0.1508 - val_loss: 10.2913 - val_dense_12_loss: 1.4872 - val_dense_14_loss: 1.9889 - val_dense_16_loss: 2.3881 - val_dense_18_loss: 2.1742 - val_dense_20_loss: 2.2528 - val_dense_12_acc: 0.0515 - val_dense_14_acc: 0.2526 - val_dense_16_acc: 0.1340 - val_dense_18_acc: 0.1495 - val_dense_20_acc: 0.1495\n",
      "Epoch 13/30\n",
      "776/776 [==============================] - 4s 5ms/step - loss: 11.2113 - dense_12_loss: 2.0555 - dense_14_loss: 2.0688 - dense_16_loss: 2.4464 - dense_18_loss: 2.3382 - dense_20_loss: 2.3024 - dense_12_acc: 0.1456 - dense_14_acc: 0.2281 - dense_16_acc: 0.1160 - dense_18_acc: 0.1675 - dense_20_acc: 0.1727 - val_loss: 9.5779 - val_dense_12_loss: 1.3787 - val_dense_14_loss: 1.7336 - val_dense_16_loss: 2.3306 - val_dense_18_loss: 2.0618 - val_dense_20_loss: 2.0731 - val_dense_12_acc: 0.2577 - val_dense_14_acc: 0.2526 - val_dense_16_acc: 0.0515 - val_dense_18_acc: 0.2216 - val_dense_20_acc: 0.1237\n"
     ]
    },
    {
     "name": "stdout",
     "output_type": "stream",
     "text": [
      "Epoch 14/30\n",
      "776/776 [==============================] - 3s 4ms/step - loss: 10.7518 - dense_12_loss: 1.9471 - dense_14_loss: 1.9543 - dense_16_loss: 2.3572 - dense_18_loss: 2.2586 - dense_20_loss: 2.2346 - dense_12_acc: 0.2126 - dense_14_acc: 0.2397 - dense_16_acc: 0.1353 - dense_18_acc: 0.2049 - dense_20_acc: 0.1894 - val_loss: 9.2541 - val_dense_12_loss: 1.2868 - val_dense_14_loss: 1.5737 - val_dense_16_loss: 2.1963 - val_dense_18_loss: 2.0040 - val_dense_20_loss: 2.1934 - val_dense_12_acc: 0.4330 - val_dense_14_acc: 0.3711 - val_dense_16_acc: 0.1546 - val_dense_18_acc: 0.1701 - val_dense_20_acc: 0.1701\n",
      "Epoch 15/30\n",
      "776/776 [==============================] - 3s 4ms/step - loss: 10.1314 - dense_12_loss: 1.7435 - dense_14_loss: 1.8908 - dense_16_loss: 2.2413 - dense_18_loss: 2.1485 - dense_20_loss: 2.1074 - dense_12_acc: 0.3299 - dense_14_acc: 0.2500 - dense_16_acc: 0.1495 - dense_18_acc: 0.2204 - dense_20_acc: 0.1881 - val_loss: 7.8212 - val_dense_12_loss: 0.8582 - val_dense_14_loss: 1.3436 - val_dense_16_loss: 2.0013 - val_dense_18_loss: 1.8701 - val_dense_20_loss: 1.7481 - val_dense_12_acc: 0.7062 - val_dense_14_acc: 0.4175 - val_dense_16_acc: 0.1443 - val_dense_18_acc: 0.2784 - val_dense_20_acc: 0.2010\n",
      "Epoch 16/30\n",
      "776/776 [==============================] - 3s 4ms/step - loss: 9.4870 - dense_12_loss: 1.6609 - dense_14_loss: 1.7807 - dense_16_loss: 2.0974 - dense_18_loss: 2.0036 - dense_20_loss: 1.9445 - dense_12_acc: 0.3634 - dense_14_acc: 0.2848 - dense_16_acc: 0.1688 - dense_18_acc: 0.2552 - dense_20_acc: 0.2526 - val_loss: 7.3862 - val_dense_12_loss: 0.7359 - val_dense_14_loss: 1.3461 - val_dense_16_loss: 1.8710 - val_dense_18_loss: 1.8983 - val_dense_20_loss: 1.5348 - val_dense_12_acc: 0.7784 - val_dense_14_acc: 0.4897 - val_dense_16_acc: 0.2577 - val_dense_18_acc: 0.2371 - val_dense_20_acc: 0.3814\n",
      "Epoch 17/30\n",
      "776/776 [==============================] - 3s 4ms/step - loss: 8.9330 - dense_12_loss: 1.4052 - dense_14_loss: 1.7416 - dense_16_loss: 1.9946 - dense_18_loss: 1.9115 - dense_20_loss: 1.8801 - dense_12_acc: 0.4807 - dense_14_acc: 0.3209 - dense_16_acc: 0.1817 - dense_18_acc: 0.2603 - dense_20_acc: 0.2552 - val_loss: 6.6020 - val_dense_12_loss: 0.4661 - val_dense_14_loss: 1.2312 - val_dense_16_loss: 1.7454 - val_dense_18_loss: 1.7365 - val_dense_20_loss: 1.4228 - val_dense_12_acc: 0.8557 - val_dense_14_acc: 0.4536 - val_dense_16_acc: 0.2577 - val_dense_18_acc: 0.3196 - val_dense_20_acc: 0.3454\n",
      "Epoch 18/30\n",
      "776/776 [==============================] - 3s 4ms/step - loss: 8.3689 - dense_12_loss: 1.3060 - dense_14_loss: 1.6277 - dense_16_loss: 1.8705 - dense_18_loss: 1.8064 - dense_20_loss: 1.7583 - dense_12_acc: 0.5155 - dense_14_acc: 0.3711 - dense_16_acc: 0.2436 - dense_18_acc: 0.3376 - dense_20_acc: 0.3067 - val_loss: 5.8961 - val_dense_12_loss: 0.3233 - val_dense_14_loss: 1.0454 - val_dense_16_loss: 1.5231 - val_dense_18_loss: 1.6897 - val_dense_20_loss: 1.3145 - val_dense_12_acc: 0.9124 - val_dense_14_acc: 0.5619 - val_dense_16_acc: 0.4330 - val_dense_18_acc: 0.3763 - val_dense_20_acc: 0.4691\n",
      "Epoch 19/30\n",
      "776/776 [==============================] - 3s 4ms/step - loss: 7.7091 - dense_12_loss: 1.0977 - dense_14_loss: 1.5176 - dense_16_loss: 1.7650 - dense_18_loss: 1.6808 - dense_20_loss: 1.6480 - dense_12_acc: 0.5747 - dense_14_acc: 0.4240 - dense_16_acc: 0.3144 - dense_18_acc: 0.3673 - dense_20_acc: 0.3376 - val_loss: 5.0594 - val_dense_12_loss: 0.2411 - val_dense_14_loss: 1.0095 - val_dense_16_loss: 1.3268 - val_dense_18_loss: 1.3636 - val_dense_20_loss: 1.1186 - val_dense_12_acc: 0.9124 - val_dense_14_acc: 0.5979 - val_dense_16_acc: 0.5206 - val_dense_18_acc: 0.4433 - val_dense_20_acc: 0.5464\n",
      "Epoch 20/30\n",
      "776/776 [==============================] - 3s 4ms/step - loss: 7.0243 - dense_12_loss: 0.9831 - dense_14_loss: 1.3482 - dense_16_loss: 1.6177 - dense_18_loss: 1.5390 - dense_20_loss: 1.5363 - dense_12_acc: 0.6276 - dense_14_acc: 0.5077 - dense_16_acc: 0.3363 - dense_18_acc: 0.4124 - dense_20_acc: 0.4034 - val_loss: 4.4972 - val_dense_12_loss: 0.1527 - val_dense_14_loss: 0.7904 - val_dense_16_loss: 1.2046 - val_dense_18_loss: 1.2292 - val_dense_20_loss: 1.1203 - val_dense_12_acc: 0.9433 - val_dense_14_acc: 0.7062 - val_dense_16_acc: 0.6186 - val_dense_18_acc: 0.6546 - val_dense_20_acc: 0.6031\n",
      "Epoch 21/30\n",
      "776/776 [==============================] - 3s 4ms/step - loss: 6.4773 - dense_12_loss: 0.9545 - dense_14_loss: 1.2025 - dense_16_loss: 1.5316 - dense_18_loss: 1.3519 - dense_20_loss: 1.4368 - dense_12_acc: 0.6263 - dense_14_acc: 0.5541 - dense_16_acc: 0.3956 - dense_18_acc: 0.4820 - dense_20_acc: 0.4201 - val_loss: 4.2619 - val_dense_12_loss: 0.1437 - val_dense_14_loss: 0.6910 - val_dense_16_loss: 1.0101 - val_dense_18_loss: 1.4007 - val_dense_20_loss: 1.0163 - val_dense_12_acc: 0.9742 - val_dense_14_acc: 0.7629 - val_dense_16_acc: 0.7113 - val_dense_18_acc: 0.5361 - val_dense_20_acc: 0.6237\n",
      "Epoch 22/30\n",
      "776/776 [==============================] - 3s 4ms/step - loss: 6.0595 - dense_12_loss: 0.8555 - dense_14_loss: 1.0608 - dense_16_loss: 1.3972 - dense_18_loss: 1.4080 - dense_20_loss: 1.3380 - dense_12_acc: 0.6366 - dense_14_acc: 0.6108 - dense_16_acc: 0.4356 - dense_18_acc: 0.4639 - dense_20_acc: 0.4652 - val_loss: 3.6933 - val_dense_12_loss: 0.1322 - val_dense_14_loss: 0.5557 - val_dense_16_loss: 0.9222 - val_dense_18_loss: 1.0897 - val_dense_20_loss: 0.9936 - val_dense_12_acc: 0.9639 - val_dense_14_acc: 0.8454 - val_dense_16_acc: 0.7474 - val_dense_18_acc: 0.6753 - val_dense_20_acc: 0.6546\n",
      "Epoch 23/30\n",
      "776/776 [==============================] - 3s 4ms/step - loss: 5.8281 - dense_12_loss: 0.9306 - dense_14_loss: 0.9842 - dense_16_loss: 1.3487 - dense_18_loss: 1.2795 - dense_20_loss: 1.2852 - dense_12_acc: 0.6250 - dense_14_acc: 0.6340 - dense_16_acc: 0.4794 - dense_18_acc: 0.5026 - dense_20_acc: 0.5052 - val_loss: 3.7556 - val_dense_12_loss: 0.0900 - val_dense_14_loss: 0.5993 - val_dense_16_loss: 0.8604 - val_dense_18_loss: 1.1200 - val_dense_20_loss: 1.0858 - val_dense_12_acc: 0.9691 - val_dense_14_acc: 0.8608 - val_dense_16_acc: 0.7629 - val_dense_18_acc: 0.6649 - val_dense_20_acc: 0.6701\n",
      "Epoch 24/30\n",
      "776/776 [==============================] - 3s 4ms/step - loss: 5.3175 - dense_12_loss: 0.7518 - dense_14_loss: 0.9581 - dense_16_loss: 1.2624 - dense_18_loss: 1.1673 - dense_20_loss: 1.1779 - dense_12_acc: 0.6881 - dense_14_acc: 0.6173 - dense_16_acc: 0.5219 - dense_18_acc: 0.5438 - dense_20_acc: 0.5322 - val_loss: 3.1545 - val_dense_12_loss: 0.0728 - val_dense_14_loss: 0.5343 - val_dense_16_loss: 0.8063 - val_dense_18_loss: 0.9323 - val_dense_20_loss: 0.8087 - val_dense_12_acc: 0.9794 - val_dense_14_acc: 0.8557 - val_dense_16_acc: 0.7835 - val_dense_18_acc: 0.7062 - val_dense_20_acc: 0.7887\n",
      "Epoch 25/30\n",
      "776/776 [==============================] - 3s 4ms/step - loss: 5.1087 - dense_12_loss: 0.7387 - dense_14_loss: 0.8778 - dense_16_loss: 1.2012 - dense_18_loss: 1.1185 - dense_20_loss: 1.1723 - dense_12_acc: 0.6972 - dense_14_acc: 0.6624 - dense_16_acc: 0.5335 - dense_18_acc: 0.5735 - dense_20_acc: 0.5361 - val_loss: 3.0578 - val_dense_12_loss: 0.0638 - val_dense_14_loss: 0.4588 - val_dense_16_loss: 0.6836 - val_dense_18_loss: 0.9837 - val_dense_20_loss: 0.8679 - val_dense_12_acc: 0.9742 - val_dense_14_acc: 0.8969 - val_dense_16_acc: 0.8351 - val_dense_18_acc: 0.7113 - val_dense_20_acc: 0.7371\n",
      "Epoch 26/30\n",
      "776/776 [==============================] - 3s 4ms/step - loss: 4.7511 - dense_12_loss: 0.6631 - dense_14_loss: 0.7810 - dense_16_loss: 1.1326 - dense_18_loss: 1.0993 - dense_20_loss: 1.0752 - dense_12_acc: 0.7358 - dense_14_acc: 0.7010 - dense_16_acc: 0.5399 - dense_18_acc: 0.5812 - dense_20_acc: 0.5825 - val_loss: 2.8728 - val_dense_12_loss: 0.0487 - val_dense_14_loss: 0.4879 - val_dense_16_loss: 0.7296 - val_dense_18_loss: 0.8789 - val_dense_20_loss: 0.7278 - val_dense_12_acc: 0.9794 - val_dense_14_acc: 0.8866 - val_dense_16_acc: 0.8196 - val_dense_18_acc: 0.7268 - val_dense_20_acc: 0.8041\n",
      "Epoch 27/30\n",
      "776/776 [==============================] - 3s 4ms/step - loss: 4.7148 - dense_12_loss: 0.7461 - dense_14_loss: 0.7299 - dense_16_loss: 1.1654 - dense_18_loss: 1.0766 - dense_20_loss: 0.9968 - dense_12_acc: 0.7062 - dense_14_acc: 0.7088 - dense_16_acc: 0.5464 - dense_18_acc: 0.5747 - dense_20_acc: 0.6044 - val_loss: 2.7930 - val_dense_12_loss: 0.0721 - val_dense_14_loss: 0.3664 - val_dense_16_loss: 0.7486 - val_dense_18_loss: 0.8534 - val_dense_20_loss: 0.7526 - val_dense_12_acc: 0.9742 - val_dense_14_acc: 0.9175 - val_dense_16_acc: 0.8351 - val_dense_18_acc: 0.7165 - val_dense_20_acc: 0.8196\n",
      "Epoch 28/30\n",
      "776/776 [==============================] - 3s 4ms/step - loss: 4.3593 - dense_12_loss: 0.5649 - dense_14_loss: 0.7643 - dense_16_loss: 1.0795 - dense_18_loss: 0.9609 - dense_20_loss: 0.9896 - dense_12_acc: 0.7474 - dense_14_acc: 0.6920 - dense_16_acc: 0.5683 - dense_18_acc: 0.6082 - dense_20_acc: 0.6198 - val_loss: 2.7626 - val_dense_12_loss: 0.0728 - val_dense_14_loss: 0.3265 - val_dense_16_loss: 0.6535 - val_dense_18_loss: 0.9113 - val_dense_20_loss: 0.7986 - val_dense_12_acc: 0.9742 - val_dense_14_acc: 0.9175 - val_dense_16_acc: 0.8608 - val_dense_18_acc: 0.7113 - val_dense_20_acc: 0.7938\n",
      "Epoch 29/30\n",
      "776/776 [==============================] - 3s 4ms/step - loss: 4.3437 - dense_12_loss: 0.6382 - dense_14_loss: 0.6665 - dense_16_loss: 1.0248 - dense_18_loss: 1.0339 - dense_20_loss: 0.9802 - dense_12_acc: 0.7461 - dense_14_acc: 0.7345 - dense_16_acc: 0.5902 - dense_18_acc: 0.5928 - dense_20_acc: 0.6186 - val_loss: 2.6924 - val_dense_12_loss: 0.0398 - val_dense_14_loss: 0.4033 - val_dense_16_loss: 0.6500 - val_dense_18_loss: 0.8387 - val_dense_20_loss: 0.7606 - val_dense_12_acc: 0.9948 - val_dense_14_acc: 0.8969 - val_dense_16_acc: 0.8557 - val_dense_18_acc: 0.7268 - val_dense_20_acc: 0.7990\n",
      "Epoch 30/30\n",
      "776/776 [==============================] - 3s 4ms/step - loss: 4.0778 - dense_12_loss: 0.5730 - dense_14_loss: 0.6346 - dense_16_loss: 0.9887 - dense_18_loss: 0.9424 - dense_20_loss: 0.9390 - dense_12_acc: 0.7629 - dense_14_acc: 0.7526 - dense_16_acc: 0.6082 - dense_18_acc: 0.6263 - dense_20_acc: 0.6250 - val_loss: 2.5024 - val_dense_12_loss: 0.0378 - val_dense_14_loss: 0.3255 - val_dense_16_loss: 0.7113 - val_dense_18_loss: 0.7368 - val_dense_20_loss: 0.6910 - val_dense_12_acc: 0.9794 - val_dense_14_acc: 0.9330 - val_dense_16_acc: 0.8505 - val_dense_18_acc: 0.7474 - val_dense_20_acc: 0.8351\n"
     ]
    }
   ],
   "source": [
    "# Fitting the Model and Train\n",
    "hist = model.fit(x_train, [y_train[0], y_train[1], y_train[2], y_train[3], y_train[4]], batch_size=32, epochs=30,verbose=1, validation_split=0.2) # validation data is also there\n"
   ]
  },
  {
   "cell_type": "code",
   "execution_count": 4,
   "metadata": {},
   "outputs": [],
   "source": [
    "# Predict Logic\n",
    "def predict_captcha(fileName):\n",
    "    img = cv2.imread(fileName, cv2.IMREAD_GRAYSCALE)\n",
    "    if img is not None:\n",
    "        img = img/255.0\n",
    "    else: print('Not Detected')\n",
    "    res = np.array(model.predict(img[np.newaxis, :, :, np.newaxis]))\n",
    "    ans = np.reshape(res, (5, 36))\n",
    "    l_ind = []\n",
    "    probs = []\n",
    "    for a in ans:\n",
    "        l_ind.append(np.argmax(a))\n",
    "    capt = ''\n",
    "    for l in l_ind:\n",
    "        capt += symbols[l]\n",
    "    return capt\n"
   ]
  },
  {
   "cell_type": "code",
   "execution_count": 39,
   "metadata": {},
   "outputs": [],
   "source": [
    "model.save('CaptchaModelNew.hdf5')"
   ]
  },
  {
   "cell_type": "code",
   "execution_count": 5,
   "metadata": {},
   "outputs": [
    {
     "name": "stdout",
     "output_type": "stream",
     "text": [
      "WARNING:tensorflow:From /home/adi/miniconda3/envs/datascience/lib/python3.7/site-packages/keras/optimizers.py:790: The name tf.train.Optimizer is deprecated. Please use tf.compat.v1.train.Optimizer instead.\n",
      "\n",
      "WARNING:tensorflow:From /home/adi/miniconda3/envs/datascience/lib/python3.7/site-packages/tensorflow/python/ops/math_grad.py:1250: add_dispatch_support.<locals>.wrapper (from tensorflow.python.ops.array_ops) is deprecated and will be removed in a future version.\n",
      "Instructions for updating:\n",
      "Use tf.where in 2.0, which has the same broadcast rule as np.where\n"
     ]
    }
   ],
   "source": [
    "model = load_model('CaptchaModelNew.hdf5')"
   ]
  },
  {
   "cell_type": "code",
   "execution_count": 6,
   "metadata": {},
   "outputs": [
    {
     "name": "stdout",
     "output_type": "stream",
     "text": [
      "100/100 [==============================] - 1s 8ms/step\n",
      "Test Loss and accuracy:  [1.7610865116119385, 0.020157677680253984, 0.12425231337547302, 0.5754075384140015, 0.7003580069541931, 0.34091094255447385, 1.0, 0.97, 0.83, 0.78, 0.88]\n"
     ]
    }
   ],
   "source": [
    "# evaluation matrix \n",
    "score = model.evaluate(x_test, [y_test[0], y_test[1], y_test[2], y_test[3], y_test[4]],verbose=1)\n",
    "print('Test Loss and accuracy: ', score)"
   ]
  },
  {
   "cell_type": "code",
   "execution_count": 8,
   "metadata": {},
   "outputs": [
    {
     "name": "stdout",
     "output_type": "stream",
     "text": [
      "100/100 [==============================] - 0s 2ms/step\n",
      "5nggg\n"
     ]
    }
   ],
   "source": [
    "model.evaluate(x_test, [y_test[0], y_test[1], y_test[2], y_test[3], y_test[4]])\n",
    "print(predict_captcha('samples/5nggg.png'))\n"
   ]
  },
  {
   "cell_type": "code",
   "execution_count": 7,
   "metadata": {},
   "outputs": [
    {
     "data": {
      "image/png": "[encoded data removed]",
      "text/plain": [
       "<PIL.Image.Image image mode=RGB size=200x50 at 0x7FE2B66A31D0>"
      ]
     },
     "execution_count": 7,
     "metadata": {},
     "output_type": "execute_result"
    }
   ],
   "source": [
    "img = cv2.imread('samples/5nggg.png')\n",
    "Image.fromarray(img)"
   ]
  },
  {
   "cell_type": "code",
   "execution_count": 35,
   "metadata": {},
   "outputs": [],
   "source": []
  }
 ],
 "metadata": {
  "kernelspec": {
   "display_name": "Python 3",
   "language": "python",
   "name": "python3"
  },
  "language_info": {
   "codemirror_mode": {
    "name": "ipython",
    "version": 3
   },
   "file_extension": ".py",
   "mimetype": "text/x-python",
   "name": "python",
   "nbconvert_exporter": "python",
   "pygments_lexer": "ipython3",
   "version": "3.7.4"
  }
 },
 "nbformat": 4,
 "nbformat_minor": 2
}
